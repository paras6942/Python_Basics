{
 "cells": [
  {
   "cell_type": "markdown",
   "id": "514dde87-35ef-49ad-8742-d84b3b3a78b3",
   "metadata": {},
   "source": [
    "# Writing Your First Python Code\n",
    "\n",
    "    \n",
    "\n",
    "## Objectives\n",
    "\n",
    "After going through this document,  you will be able to:\n",
    "* Write your basic python code\n"
   ]
  },
  {
   "cell_type": "markdown",
   "id": "6ebe16d7-da17-4c99-8d73-efc28a47233f",
   "metadata": {},
   "source": [
    "## Say 'Hello' to the world in Python\n"
   ]
  },
  {
   "cell_type": "markdown",
   "id": "796003ad-f243-49cf-abb2-03c6c874068b",
   "metadata": {},
   "source": [
    "When learning a new programming language, it is customary to start with an \"hello world\" example. As simple as it is, this one line of code will ensure that we know how to print a string in output and how to execute code within cells in a notebook.\n"
   ]
  },
  {
   "cell_type": "markdown",
   "id": "67d3c031-6d03-4b18-9e73-7c186f9e926a",
   "metadata": {},
   "source": [
    "<hr/>\n",
    "<div class=\"alert alert-success alertsuccess\" style=\"margin-top: 20px\">\n",
    "[Tip]: To execute the Python code in the code cell below, click on the cell to select it and press <kbd>Shift</kbd> + <kbd>Enter</kbd>.\n",
    "</div>\n",
    "<hr/>"
   ]
  },
  {
   "cell_type": "code",
   "execution_count": 5,
   "id": "4eb42217-bfe8-49b0-b605-43b235936c08",
   "metadata": {},
   "outputs": [
    {
     "name": "stdout",
     "output_type": "stream",
     "text": [
      "Hello, Python!\n"
     ]
    }
   ],
   "source": [
    "# Try your first Python output\n",
    "\n",
    "print('Hello, Python!')"
   ]
  },
  {
   "cell_type": "markdown",
   "id": "c06cca86-382c-4c45-9ef1-5dfe0c7c9af2",
   "metadata": {},
   "source": [
    "After executing the cell above, you should see that Python prints <code>Hello, Python!</code>. Congratulations on running your first Python code!\n"
   ]
  },
  {
   "cell_type": "markdown",
   "id": "6b48c653-b4e7-4679-830f-7a152f106ba1",
   "metadata": {},
   "source": [
    "<hr/>\n",
    "<div class=\"alert alert-success alertsuccess\" style=\"margin-top: 20px\">\n",
    "    [Tip:] <code>print()</code> is a function. You passed the string <code>'Hello, Python!'</code> as an argument to instruct Python on what to print.\n",
    "</div>\n",
    "<hr/>"
   ]
  },
  {
   "cell_type": "markdown",
   "id": "8fa6cbde-98fd-4711-a482-7bc409d50e9a",
   "metadata": {},
   "source": [
    "### What version of Python are we using?"
   ]
  },
  {
   "cell_type": "markdown",
   "id": "ef047ebc-4eb0-4e3f-83a1-d9b1fa771d83",
   "metadata": {},
   "source": [
    "There are two popular versions of the Python programming language in use today: Python 2 and Python 3. The Python community has decided to move on from Python 2 to Python 3, and many popular libraries have announced that they will no longer support Python 2.\n",
    "\n",
    "Since Python 3 is the future, in this course we will be using it exclusively. How do we know that our notebook is executed by a Python 3 runtime? We can look in the top-right hand corner of this notebook and see \"Python 3\".\n",
    "\n",
    "We can also ask Python directly and obtain a detailed answer. Try executing the following code:"
   ]
  },
  {
   "cell_type": "code",
   "execution_count": 6,
   "id": "c39cf57d-d808-41e5-9101-3a1273f49392",
   "metadata": {},
   "outputs": [
    {
     "name": "stdout",
     "output_type": "stream",
     "text": [
      "3.11.2 (main, May  2 2024, 11:59:08) [GCC 12.2.0]\n"
     ]
    }
   ],
   "source": [
    "# Check the Python Version\n",
    "\n",
    "import sys\n",
    "print(sys.version)"
   ]
  },
  {
   "cell_type": "markdown",
   "id": "ce908dc7-b604-4a4f-ad15-ae23316be6ee",
   "metadata": {},
   "source": [
    "<hr/>\n",
    "<div class=\"alert alert-success alertsuccess\" style=\"margin-top: 20px\">\n",
    "    [Tip:] <code>sys</code> is a built-in module that contains many system-specific parameters and functions, including the Python version in use. Before using it, we must explictly <code>import</code> it.\n",
    "</div>\n",
    "<hr/>"
   ]
  },
  {
   "cell_type": "markdown",
   "id": "874ecc28-2e5d-4125-8dc3-b07660c19695",
   "metadata": {},
   "source": [
    "### Writing comments in Python"
   ]
  },
  {
   "cell_type": "markdown",
   "id": "dbe7812c-38ff-41aa-94af-a3ff397312d4",
   "metadata": {},
   "source": [
    "In addition to writing code, note that it's always a good idea to add comments to your code. It will help others understand what you were trying to accomplish (the reason why you wrote a given snippet of code). Not only does this help other people understand your code, it can also serve as a reminder to you when you come back to it weeks or months later.\n",
    "\n",
    "To write comments in Python, use the number symbol # before writing your comment. When you run your code, Python will ignore everything past the # on a given line."
   ]
  },
  {
   "cell_type": "code",
   "execution_count": 7,
   "id": "f8f2fb1b-de82-44fa-b338-dee2705044cb",
   "metadata": {},
   "outputs": [
    {
     "name": "stdout",
     "output_type": "stream",
     "text": [
      "Hello, Python!\n"
     ]
    }
   ],
   "source": [
    "# Practice on writing comments\n",
    "\n",
    "print('Hello, Python!') # This line prints a string"
   ]
  },
  {
   "cell_type": "markdown",
   "id": "5ac6d1d2-d4cb-495e-a7c2-cd18baafa56b",
   "metadata": {},
   "source": [
    "### Errors in Python\n",
    "#### Does Python know about your error before it runs your code?"
   ]
  },
  {
   "cell_type": "markdown",
   "id": "1078ba2e-4b90-423b-8d37-2f0c67de3276",
   "metadata": {},
   "source": [
    "**Python** is what is called an **interpreted language. Compiled languages** examine your entire program at compile time, and are able to warn you about a whole class of errors prior to execution. In contrast, Python interprets your script line by line as it executes it. Python will stop executing the entire program when it encounters an error (unless the error is expected and handled by the programmer)"
   ]
  },
  {
   "cell_type": "markdown",
   "id": "47d4897c-ef44-45bd-9472-681f8393be3c",
   "metadata": {},
   "source": [
    "Try to run the code in the cell below and see what happens:\n"
   ]
  },
  {
   "cell_type": "code",
   "execution_count": 8,
   "id": "d004cacd-d749-4434-9e24-6008641c0277",
   "metadata": {},
   "outputs": [
    {
     "name": "stdout",
     "output_type": "stream",
     "text": [
      "This will be printed\n"
     ]
    },
    {
     "ename": "NameError",
     "evalue": "name 'frint' is not defined",
     "output_type": "error",
     "traceback": [
      "\u001b[0;31m---------------------------------------------------------------------------\u001b[0m",
      "\u001b[0;31mNameError\u001b[0m                                 Traceback (most recent call last)",
      "Cell \u001b[0;32mIn[8], line 4\u001b[0m\n\u001b[1;32m      1\u001b[0m \u001b[38;5;66;03m# Print string and error to see the running order\u001b[39;00m\n\u001b[1;32m      3\u001b[0m \u001b[38;5;28mprint\u001b[39m(\u001b[38;5;124m\"\u001b[39m\u001b[38;5;124mThis will be printed\u001b[39m\u001b[38;5;124m\"\u001b[39m)\n\u001b[0;32m----> 4\u001b[0m \u001b[43mfrint\u001b[49m(\u001b[38;5;124m\"\u001b[39m\u001b[38;5;124mThis will cause an error\u001b[39m\u001b[38;5;124m\"\u001b[39m)\n\u001b[1;32m      5\u001b[0m \u001b[38;5;28mprint\u001b[39m(\u001b[38;5;124m\"\u001b[39m\u001b[38;5;124mThis will NOT be printed\u001b[39m\u001b[38;5;124m\"\u001b[39m)\n",
      "\u001b[0;31mNameError\u001b[0m: name 'frint' is not defined"
     ]
    }
   ],
   "source": [
    "# Print string and error to see the running order\n",
    "\n",
    "print(\"This will be printed\")\n",
    "frint(\"This will cause an error\")\n",
    "print(\"This will NOT be printed\")"
   ]
  },
  {
   "cell_type": "markdown",
   "id": "c66a5a88-fea1-43ed-b4a0-563e4b8b0daf",
   "metadata": {},
   "source": [
    "### Exercise: Your First Program\n"
   ]
  },
  {
   "cell_type": "code",
   "execution_count": 9,
   "id": "dd579f57-e9ab-4db2-a449-e22cf3566935",
   "metadata": {},
   "outputs": [
    {
     "name": "stdout",
     "output_type": "stream",
     "text": [
      "3\n"
     ]
    }
   ],
   "source": [
    "# Write your code below. Don't forget to press Shift+Enter to execute the cell\n",
    "one = 1\n",
    "two = 2\n",
    "print(one + two)"
   ]
  },
  {
   "cell_type": "markdown",
   "id": "e04e0c55-8d2a-40c8-928b-634fa1768ba2",
   "metadata": {},
   "source": [
    "### Plotting a graph in Python"
   ]
  },
  {
   "cell_type": "code",
   "execution_count": 10,
   "id": "6334a555-959a-4586-8cfe-4fedd099603d",
   "metadata": {},
   "outputs": [],
   "source": [
    "a = [1,2,3,4]\n",
    "b = [-1,-2,-3,-4]"
   ]
  },
  {
   "cell_type": "code",
   "execution_count": 11,
   "id": "6193f46f-0f94-47e8-a131-14e89e5606ed",
   "metadata": {},
   "outputs": [],
   "source": [
    "import matplotlib.pyplot as plt"
   ]
  },
  {
   "cell_type": "code",
   "execution_count": 12,
   "id": "dcb59b42-a47c-42a7-b032-1fc74523d52e",
   "metadata": {},
   "outputs": [
    {
     "data": {
      "image/png": "[encoded data removed]",
      "text/plain": [
       "<Figure size 640x480 with 1 Axes>"
      ]
     },
     "metadata": {},
     "output_type": "display_data"
    }
   ],
   "source": [
    "plt.plot(a,b)\n",
    "plt.show()"
   ]
  },
  {
   "cell_type": "markdown",
   "id": "b2532d10-3046-4427-a45b-64167e122f0e",
   "metadata": {},
   "source": [
    "# Working with Types in Python\n",
    "    \n",
    "\n",
    "## Objectives\n",
    "\n",
    "* Work with various types of data in Python\n",
    "* Convert the data from one type to another"
   ]
  },
  {
   "cell_type": "markdown",
   "id": "f2409cf0-b1c5-498d-9986-3dc982a20e41",
   "metadata": {},
   "source": [
    "## Types of objects in Python"
   ]
  },
  {
   "cell_type": "markdown",
   "id": "738bf5ed-34ac-4f5b-8dfe-a131db071087",
   "metadata": {},
   "source": [
    "Python is an object-oriented language. There are many different types of objects in Python. Let's start with the most common object types: strings, integers and floats."
   ]
  },
  {
   "cell_type": "markdown",
   "id": "31bd0fd3-63f0-4d10-b3de-a17f9cd029b4",
   "metadata": {},
   "source": [
    "The following code cells contain some examples."
   ]
  },
  {
   "cell_type": "code",
   "execution_count": 13,
   "id": "f6d02dcf-0d4d-46db-a9ba-af48eaa58604",
   "metadata": {},
   "outputs": [
    {
     "data": {
      "text/plain": [
       "11"
      ]
     },
     "execution_count": 13,
     "metadata": {},
     "output_type": "execute_result"
    }
   ],
   "source": [
    "# Integer\n",
    "\n",
    "11"
   ]
  },
  {
   "cell_type": "code",
   "execution_count": 14,
   "id": "f04a7c51-7208-4f87-b03c-45f7448657b6",
   "metadata": {},
   "outputs": [
    {
     "data": {
      "text/plain": [
       "2.14"
      ]
     },
     "execution_count": 14,
     "metadata": {},
     "output_type": "execute_result"
    }
   ],
   "source": [
    "# Float\n",
    "\n",
    "2.14"
   ]
  },
  {
   "cell_type": "code",
   "execution_count": 15,
   "id": "23165099-1a7e-4970-955a-ae9c4733eb4d",
   "metadata": {},
   "outputs": [
    {
     "data": {
      "text/plain": [
       "'Hello, Python!'"
      ]
     },
     "execution_count": 15,
     "metadata": {},
     "output_type": "execute_result"
    }
   ],
   "source": [
    "# String\n",
    "\n",
    "\"Hello, Python!\""
   ]
  },
  {
   "cell_type": "code",
   "execution_count": 16,
   "id": "650daada-eaf6-402a-b103-0e11834447af",
   "metadata": {},
   "outputs": [
    {
     "name": "stdout",
     "output_type": "stream",
     "text": [
      "<class 'float'> <class 'int'> <class 'int'> <class 'str'>\n"
     ]
    }
   ],
   "source": [
    "print( type(0.1), type(2), type(-3), type(\"Hello\"))"
   ]
  },
  {
   "cell_type": "markdown",
   "id": "da310a34-234b-4982-b258-8a7e002847d9",
   "metadata": {},
   "source": [
    "### Converting from one object type to a different object type"
   ]
  },
  {
   "cell_type": "markdown",
   "id": "8a3ab11d-0bbd-4a88-aa31-c2d3b8239397",
   "metadata": {},
   "source": [
    "You can change the type of the object in Python; this is called typecasting. For example, you can convert an integer into a float (e.g. 2 to 2.0).\n",
    "\n",
    "Let's try it:"
   ]
  },
  {
   "cell_type": "code",
   "execution_count": 17,
   "id": "d2877be1-eb09-4b50-ad75-bd4c926b682c",
   "metadata": {},
   "outputs": [
    {
     "data": {
      "text/plain": [
       "2.0"
      ]
     },
     "execution_count": 17,
     "metadata": {},
     "output_type": "execute_result"
    }
   ],
   "source": [
    "# Convert 2 to a float\n",
    "\n",
    "float(2)"
   ]
  },
  {
   "cell_type": "code",
   "execution_count": 18,
   "id": "08e16346-5a13-40bd-899c-4407d0cbf736",
   "metadata": {},
   "outputs": [
    {
     "data": {
      "text/plain": [
       "float"
      ]
     },
     "execution_count": 18,
     "metadata": {},
     "output_type": "execute_result"
    }
   ],
   "source": [
    "type(float(2))"
   ]
  },
  {
   "cell_type": "code",
   "execution_count": 19,
   "id": "6b2af8ef-aa9e-42f8-a7a7-0683f3443349",
   "metadata": {},
   "outputs": [
    {
     "data": {
      "text/plain": [
       "1"
      ]
     },
     "execution_count": 19,
     "metadata": {},
     "output_type": "execute_result"
    }
   ],
   "source": [
    "#Convert float to integer. This rounds off the float to a lesser value.\n",
    "int(1.8)"
   ]
  },
  {
   "cell_type": "code",
   "execution_count": 20,
   "id": "84140490-03c3-4c18-a5f2-2d1e4fb4085c",
   "metadata": {},
   "outputs": [
    {
     "data": {
      "text/plain": [
       "float"
      ]
     },
     "execution_count": 20,
     "metadata": {},
     "output_type": "execute_result"
    }
   ],
   "source": [
    "type(6/2) # float 3.0"
   ]
  },
  {
   "cell_type": "code",
   "execution_count": 21,
   "id": "2cd9e2fa-759b-4098-b2f4-97a8b79dc629",
   "metadata": {},
   "outputs": [
    {
     "data": {
      "text/plain": [
       "int"
      ]
     },
     "execution_count": 21,
     "metadata": {},
     "output_type": "execute_result"
    }
   ],
   "source": [
    "type(6//2) # int 3"
   ]
  },
  {
   "cell_type": "code",
   "execution_count": 22,
   "id": "de8cd2db-15ee-41b1-9cc5-e4b62ba4025a",
   "metadata": {},
   "outputs": [
    {
     "data": {
      "text/plain": [
       "1"
      ]
     },
     "execution_count": 22,
     "metadata": {},
     "output_type": "execute_result"
    }
   ],
   "source": [
    "#Convert String to integer\n",
    "int('1')"
   ]
  },
  {
   "cell_type": "markdown",
   "id": "1177f286-0871-4a87-be07-826eeb5ee285",
   "metadata": {},
   "source": [
    "<hr/>\n",
    "<div class=\"alert alert-success alertsuccess\" style=\"margin-top: 20px\">\n",
    "    [Tip:] Note that strings can be represented with single quotes (<code>'1.2'</code>) or double quotes (<code>\"1.2\"</code>), but you can't mix both (e.g., <code>\"1.2'</code>).\n",
    "</div>\n",
    "<hr/>"
   ]
  },
  {
   "cell_type": "markdown",
   "id": "a7885a82-023a-475b-b9ad-7b2222a2b9cd",
   "metadata": {},
   "source": [
    "### Boolean data type"
   ]
  },
  {
   "cell_type": "code",
   "execution_count": 23,
   "id": "8bbb611f-df29-44a2-a06e-6b22b466be68",
   "metadata": {},
   "outputs": [
    {
     "data": {
      "text/plain": [
       "False"
      ]
     },
     "execution_count": 23,
     "metadata": {},
     "output_type": "execute_result"
    }
   ],
   "source": [
    "1 == 2"
   ]
  },
  {
   "cell_type": "code",
   "execution_count": 24,
   "id": "e66f1fd5-8c73-4f62-b7a2-931379acad02",
   "metadata": {},
   "outputs": [
    {
     "data": {
      "text/plain": [
       "True"
      ]
     },
     "execution_count": 24,
     "metadata": {},
     "output_type": "execute_result"
    }
   ],
   "source": [
    "1 == 1"
   ]
  },
  {
   "cell_type": "code",
   "execution_count": 25,
   "id": "6e359216-acc3-446a-b651-e6f307cdb52a",
   "metadata": {},
   "outputs": [
    {
     "data": {
      "text/plain": [
       "bool"
      ]
     },
     "execution_count": 25,
     "metadata": {},
     "output_type": "execute_result"
    }
   ],
   "source": [
    "type(1 == 2)"
   ]
  },
  {
   "cell_type": "code",
   "execution_count": 26,
   "id": "dd9aec75-fada-435f-981e-b784fdeb20df",
   "metadata": {},
   "outputs": [
    {
     "name": "stdout",
     "output_type": "stream",
     "text": [
      "1 0\n"
     ]
    }
   ],
   "source": [
    "#Convert Boolean to integer\n",
    "a = int(True)\n",
    "b = int (False)\n",
    "print(a , b)\n"
   ]
  },
  {
   "cell_type": "markdown",
   "id": "aaa31e63-0cfb-49db-8aa7-9c9070d51411",
   "metadata": {},
   "source": [
    "# Working with Variables and Expressions in Python"
   ]
  },
  {
   "cell_type": "markdown",
   "id": "2e4c7ef0-8d94-406b-9fa7-0f4505e4a592",
   "metadata": {},
   "source": [
    "## Objectives\n",
    "\n",
    "After completing this lab you will be able to:\n",
    "\n",
    "* Use expressions and variables to perform operations"
   ]
  },
  {
   "cell_type": "markdown",
   "id": "62f7e8da-dc33-4c91-ace6-0e0e2cd85625",
   "metadata": {},
   "source": [
    "## Expressions and Variables"
   ]
  },
  {
   "cell_type": "markdown",
   "id": "b21dc5c3-9970-43cf-84f3-76a885ffe58e",
   "metadata": {},
   "source": [
    "Expressions in Python can include operations among compatible types (e.g., integers and floats). For example, basic arithmetic operations like adding multiple numbers:"
   ]
  },
  {
   "cell_type": "code",
   "execution_count": 27,
   "id": "732478d4-1b58-4980-988d-292064d280f0",
   "metadata": {},
   "outputs": [
    {
     "data": {
      "text/plain": [
       "160"
      ]
     },
     "execution_count": 27,
     "metadata": {},
     "output_type": "execute_result"
    }
   ],
   "source": [
    "# Addition operation expression\n",
    "\n",
    "43 + 60 + 16 + 41"
   ]
  },
  {
   "cell_type": "code",
   "execution_count": 28,
   "id": "7f397d4e-4059-4592-a7fc-0aff8e4a078b",
   "metadata": {},
   "outputs": [
    {
     "data": {
      "text/plain": [
       "-10"
      ]
     },
     "execution_count": 28,
     "metadata": {},
     "output_type": "execute_result"
    }
   ],
   "source": [
    "# Subtraction operation expression\n",
    "\n",
    "50 - 60"
   ]
  },
  {
   "cell_type": "code",
   "execution_count": 29,
   "id": "d7e6a276-cc07-48cb-b2a5-ab7fbb47acd3",
   "metadata": {},
   "outputs": [
    {
     "data": {
      "text/plain": [
       "25"
      ]
     },
     "execution_count": 29,
     "metadata": {},
     "output_type": "execute_result"
    }
   ],
   "source": [
    "# Multiplication operation expression\n",
    "\n",
    "5 * 5"
   ]
  },
  {
   "cell_type": "code",
   "execution_count": 30,
   "id": "e62b269e-8bb9-497d-a7f4-4486eed94363",
   "metadata": {},
   "outputs": [
    {
     "data": {
      "text/plain": [
       "5.0"
      ]
     },
     "execution_count": 30,
     "metadata": {},
     "output_type": "execute_result"
    }
   ],
   "source": [
    "# Division operation expression\n",
    "\n",
    "25 / 5"
   ]
  },
  {
   "cell_type": "code",
   "execution_count": 31,
   "id": "72a763c6-7108-4fc6-96ad-4f197a83f812",
   "metadata": {},
   "outputs": [
    {
     "data": {
      "text/plain": [
       "4.166666666666667"
      ]
     },
     "execution_count": 31,
     "metadata": {},
     "output_type": "execute_result"
    }
   ],
   "source": [
    "# Division operation expression\n",
    "\n",
    "25 / 6"
   ]
  },
  {
   "cell_type": "code",
   "execution_count": 32,
   "id": "7f1b5654-2bfd-4e60-ad57-086b69b8cbcc",
   "metadata": {},
   "outputs": [
    {
     "data": {
      "text/plain": [
       "5"
      ]
     },
     "execution_count": 32,
     "metadata": {},
     "output_type": "execute_result"
    }
   ],
   "source": [
    "# Integer division operation expression\n",
    "\n",
    "25 // 5"
   ]
  },
  {
   "cell_type": "code",
   "execution_count": 33,
   "id": "c6abd5a4-afa2-40c2-9993-feafd23ec152",
   "metadata": {},
   "outputs": [
    {
     "data": {
      "text/plain": [
       "4"
      ]
     },
     "execution_count": 33,
     "metadata": {},
     "output_type": "execute_result"
    }
   ],
   "source": [
    "# Integer division operation expression\n",
    "\n",
    "25 // 6"
   ]
  },
  {
   "cell_type": "markdown",
   "id": "a7614c51-a8ab-40ae-b101-9107ebe15d75",
   "metadata": {},
   "source": [
    "### Variables"
   ]
  },
  {
   "cell_type": "markdown",
   "id": "01d19506-ffe1-4968-9c85-bd03c87a03c7",
   "metadata": {},
   "source": [
    "<p>Just like with most programming languages, we can store values in <i>variables</i>, so we can use them later on. For example:</p>\n"
   ]
  },
  {
   "cell_type": "code",
   "execution_count": 34,
   "id": "f52c7ec4-4939-4b30-bc7c-88d4d00943c3",
   "metadata": {},
   "outputs": [],
   "source": [
    "# Store value into variable\n",
    "\n",
    "x = 43 + 60 + 16 + 41"
   ]
  },
  {
   "cell_type": "code",
   "execution_count": 35,
   "id": "aad53fb3-3c7c-4aca-92da-86eddb6f176f",
   "metadata": {},
   "outputs": [
    {
     "data": {
      "text/plain": [
       "160"
      ]
     },
     "execution_count": 35,
     "metadata": {},
     "output_type": "execute_result"
    }
   ],
   "source": [
    "# Print out the value in variable\n",
    "\n",
    "x"
   ]
  },
  {
   "cell_type": "code",
   "execution_count": 36,
   "id": "48951c50-487b-4e69-b16a-2e739499a00f",
   "metadata": {},
   "outputs": [
    {
     "data": {
      "text/plain": [
       "2.6666666666666665"
      ]
     },
     "execution_count": 36,
     "metadata": {},
     "output_type": "execute_result"
    }
   ],
   "source": [
    "# Use another variable to store the result of the operation between variable and value\n",
    "\n",
    "y = x / 60\n",
    "y"
   ]
  },
  {
   "cell_type": "code",
   "execution_count": 37,
   "id": "4e5b84f5-10f1-447d-8403-76ac1f1e3eef",
   "metadata": {},
   "outputs": [
    {
     "data": {
      "text/plain": [
       "2.6666666666666665"
      ]
     },
     "execution_count": 37,
     "metadata": {},
     "output_type": "execute_result"
    }
   ],
   "source": [
    "# Overwrite variable with new value\n",
    "\n",
    "x = x / 60\n",
    "x"
   ]
  },
  {
   "cell_type": "markdown",
   "id": "4f096ad0-f04b-4f12-b4d2-87fe2e3ac21e",
   "metadata": {},
   "source": [
    "<p>It's a good practice to use meaningful variable names, so you and others can read the code and understand it more easily:</p>\n"
   ]
  },
  {
   "cell_type": "code",
   "execution_count": 38,
   "id": "18e248cf-1392-4168-97c4-e08481328677",
   "metadata": {},
   "outputs": [
    {
     "data": {
      "text/plain": [
       "142"
      ]
     },
     "execution_count": 38,
     "metadata": {},
     "output_type": "execute_result"
    }
   ],
   "source": [
    "# Name the variables meaningfully\n",
    "\n",
    "total_min = 43 + 42 + 57 # Total length of albums in minutes\n",
    "total_min"
   ]
  },
  {
   "cell_type": "code",
   "execution_count": 39,
   "id": "3cd0604a-6eda-483c-b320-c91f0f5311f1",
   "metadata": {},
   "outputs": [
    {
     "data": {
      "text/plain": [
       "2.3666666666666667"
      ]
     },
     "execution_count": 39,
     "metadata": {},
     "output_type": "execute_result"
    }
   ],
   "source": [
    "# Name the variables meaningfully\n",
    "\n",
    "total_hours = total_min / 60 # Total length of albums in hours \n",
    "total_hours"
   ]
  },
  {
   "cell_type": "code",
   "execution_count": 40,
   "id": "c07a9882-9407-4a9a-af74-6d204d3a7bf6",
   "metadata": {},
   "outputs": [
    {
     "data": {
      "text/plain": [
       "2.3666666666666667"
      ]
     },
     "execution_count": 40,
     "metadata": {},
     "output_type": "execute_result"
    }
   ],
   "source": [
    "# ComplicateD expression to be avoided\n",
    "\n",
    "total_hours = (43 + 42 + 57) / 60  # Total hours in a single expression\n",
    "total_hours"
   ]
  },
  {
   "cell_type": "markdown",
   "id": "60835176-ae4a-414c-ae37-a6f3a9dfdbcd",
   "metadata": {},
   "source": [
    "# String Operations"
   ]
  },
  {
   "cell_type": "markdown",
   "id": "10999e0f-9eb4-445e-a998-13e4ab3b00fb",
   "metadata": {},
   "source": [
    "## Objectives\n",
    "\n",
    "After completing this lab you will be able to:\n",
    "\n",
    "*   Work with Strings\n",
    "*   Perform operations on String\n",
    "*   Manipulate Strings using indexing and escape sequences"
   ]
  },
  {
   "cell_type": "markdown",
   "id": "947bc086-f67f-4ba4-8e1b-833b7f57f6e7",
   "metadata": {},
   "source": [
    "## Indexing"
   ]
  },
  {
   "cell_type": "markdown",
   "id": "22544593-7c1d-41b8-8b16-16b884aa3947",
   "metadata": {},
   "source": [
    "It is helpful to think of a string as an ordered sequence. Each element in the sequence can be accessed using an index represented by the array of numbers."
   ]
  },
  {
   "cell_type": "markdown",
   "id": "ab1ec1ec-7a60-4006-8726-8aa2b5f84fc8",
   "metadata": {},
   "source": [
    "<hr/>\n",
    "<div class=\"alert alert-success alertsuccess\" style=\"margin-top: 20px\">\n",
    "[Tip]: Because indexing starts at 0, it means the first index is on the index 0.\n",
    "</div>\n",
    "<hr/>"
   ]
  },
  {
   "cell_type": "code",
   "execution_count": 41,
   "id": "699342e6-876b-477d-a82d-c3299e0f9ff9",
   "metadata": {},
   "outputs": [
    {
     "name": "stdout",
     "output_type": "stream",
     "text": [
      "L\n"
     ]
    }
   ],
   "source": [
    "# Print the first element in the string\n",
    "\n",
    "name = \"Lionel Messi\"\n",
    "print(name[0])"
   ]
  },
  {
   "cell_type": "code",
   "execution_count": 42,
   "id": "dbfee5c2-94d5-44e9-a5d2-34d35f7fddf2",
   "metadata": {},
   "outputs": [
    {
     "name": "stdout",
     "output_type": "stream",
     "text": [
      " \n"
     ]
    }
   ],
   "source": [
    "# Print the element on index 6 in the string\n",
    "\n",
    "print(name[6])"
   ]
  },
  {
   "cell_type": "code",
   "execution_count": 43,
   "id": "e5b5308d-6020-400d-8256-9c6221a54c2b",
   "metadata": {},
   "outputs": [
    {
     "name": "stdout",
     "output_type": "stream",
     "text": [
      "e\n"
     ]
    }
   ],
   "source": [
    "# Print the element on the 13th index in the string\n",
    "\n",
    "print(name[8])"
   ]
  },
  {
   "cell_type": "markdown",
   "id": "f00757c2-b346-4b49-b8dd-ab94690a3cc4",
   "metadata": {},
   "source": [
    "### Negative Indexing"
   ]
  },
  {
   "cell_type": "markdown",
   "id": "6cc097c9-62d0-4c49-a031-f1fe85ee55b4",
   "metadata": {},
   "source": [
    "We can also use negative indexing with strings:\n"
   ]
  },
  {
   "cell_type": "markdown",
   "id": "19a0f833-d464-40bf-abd6-5ded623927ea",
   "metadata": {},
   "source": [
    "Negative index can help us to count the element from the end of the string."
   ]
  },
  {
   "cell_type": "markdown",
   "id": "dcea59e0-06b5-420a-955a-0a7de5e4c473",
   "metadata": {},
   "source": [
    "The last element is given by the index -1:"
   ]
  },
  {
   "cell_type": "code",
   "execution_count": 44,
   "id": "1931268c-b09b-4048-aff0-1526dd086e51",
   "metadata": {},
   "outputs": [
    {
     "name": "stdout",
     "output_type": "stream",
     "text": [
      "i\n"
     ]
    }
   ],
   "source": [
    "# Print the last element in the string\n",
    "\n",
    "print(name[-1])"
   ]
  },
  {
   "cell_type": "code",
   "execution_count": 45,
   "id": "6d9bdf17-b791-4307-a473-1dd9be9d64cc",
   "metadata": {},
   "outputs": [
    {
     "name": "stdout",
     "output_type": "stream",
     "text": [
      " \n"
     ]
    }
   ],
   "source": [
    "print(name[-6])"
   ]
  },
  {
   "cell_type": "code",
   "execution_count": 46,
   "id": "4bc135d0-9127-416f-a745-134b57f4ac40",
   "metadata": {},
   "outputs": [
    {
     "data": {
      "text/plain": [
       "12"
      ]
     },
     "execution_count": 46,
     "metadata": {},
     "output_type": "execute_result"
    }
   ],
   "source": [
    "# Find the length of string\n",
    "\n",
    "len(name)"
   ]
  },
  {
   "cell_type": "markdown",
   "id": "a0837ad7-8d25-4dba-9434-5cf9fea541b1",
   "metadata": {},
   "source": [
    "### Slicing\n"
   ]
  },
  {
   "cell_type": "markdown",
   "id": "1008f85b-bd3a-4f38-8da8-219248cadf2e",
   "metadata": {},
   "source": [
    "We can obtain multiple characters from a string using slicing, we can obtain the 0 to 4th and 8th to the 12th element:\n"
   ]
  },
  {
   "cell_type": "markdown",
   "id": "f6b07151-24b8-466f-9725-61740726c254",
   "metadata": {},
   "source": [
    "<hr/>\n",
    "<div class=\"alert alert-success alertsuccess\" style=\"margin-top: 20px\">\n",
    "[Tip]: When taking the slice, the first number means the index (start at 0), and the second number means the length from the index to the last element you want (start at 1)\n",
    "</div>\n",
    "<hr/>\n"
   ]
  },
  {
   "cell_type": "code",
   "execution_count": 47,
   "id": "186d9439-d075-4de2-b06c-262a4d63e22b",
   "metadata": {},
   "outputs": [
    {
     "data": {
      "text/plain": [
       "'Lion'"
      ]
     },
     "execution_count": 47,
     "metadata": {},
     "output_type": "execute_result"
    }
   ],
   "source": [
    "# Take the slice on variable name with only index 0 to index 3\n",
    "\n",
    "name[0:4]"
   ]
  },
  {
   "cell_type": "code",
   "execution_count": 48,
   "id": "614436cd-c6f0-42c9-97b6-8b149019ddd0",
   "metadata": {},
   "outputs": [
    {
     "data": {
      "text/plain": [
       "'essi'"
      ]
     },
     "execution_count": 48,
     "metadata": {},
     "output_type": "execute_result"
    }
   ],
   "source": [
    "# Take the slice on variable name with only index 8 to index 11\n",
    "\n",
    "name[8:12]"
   ]
  },
  {
   "cell_type": "markdown",
   "id": "a46877ba-d651-4823-aabd-4c3c77d7af0b",
   "metadata": {},
   "source": [
    "### Stride"
   ]
  },
  {
   "cell_type": "markdown",
   "id": "2a0b6011-c09d-4c4c-aaf6-f154a6530a79",
   "metadata": {},
   "source": [
    "We can also input a stride value as follows, with the '2' indicating that we are selecting every second variable:\n"
   ]
  },
  {
   "cell_type": "code",
   "execution_count": 49,
   "id": "9f9ec103-d402-42f5-bde6-d78270f0b508",
   "metadata": {},
   "outputs": [
    {
     "data": {
      "text/plain": [
       "'Loe es'"
      ]
     },
     "execution_count": 49,
     "metadata": {},
     "output_type": "execute_result"
    }
   ],
   "source": [
    "# Get every second element. The elments on index 1, 3, 5 ...\n",
    "\n",
    "name[::2]"
   ]
  },
  {
   "cell_type": "markdown",
   "id": "36647a7a-8e5d-4ba8-9fd8-3863aace61f3",
   "metadata": {},
   "source": [
    "We can also incorporate slicing  with the stride. In this case, we select the first five elements and then use the stride:\n"
   ]
  },
  {
   "cell_type": "code",
   "execution_count": 50,
   "id": "e1fb9e77-1727-40d3-8c1d-0aaf89376407",
   "metadata": {},
   "outputs": [
    {
     "data": {
      "text/plain": [
       "'Loe'"
      ]
     },
     "execution_count": 50,
     "metadata": {},
     "output_type": "execute_result"
    }
   ],
   "source": [
    "# Get every second element in the range from index 0 to index 4\n",
    "\n",
    "name[0:5:2]"
   ]
  },
  {
   "cell_type": "markdown",
   "id": "0239e8dc-1d35-4655-a603-f430e6fe7753",
   "metadata": {},
   "source": [
    "### Concatenate Strings"
   ]
  },
  {
   "cell_type": "markdown",
   "id": "7daf7e49-b797-46db-93c3-6c6c522f3290",
   "metadata": {},
   "source": [
    "We can concatenate or combine strings by using the addition symbols, and the result is a new string that is a combination of both:"
   ]
  },
  {
   "cell_type": "code",
   "execution_count": 51,
   "id": "baf3f538-6a45-4a8d-8e61-2ee3483c3e6e",
   "metadata": {},
   "outputs": [
    {
     "data": {
      "text/plain": [
       "'Lionel Messi is the best'"
      ]
     },
     "execution_count": 51,
     "metadata": {},
     "output_type": "execute_result"
    }
   ],
   "source": [
    "# Concatenate two strings\n",
    "\n",
    "statement = name + \" is the best\"\n",
    "statement"
   ]
  },
  {
   "cell_type": "code",
   "execution_count": 52,
   "id": "7ff045b3-72b1-4752-aafb-9aa7df21e87a",
   "metadata": {},
   "outputs": [
    {
     "data": {
      "text/plain": [
       "'Michael Jackson Michael Jackson Michael Jackson '"
      ]
     },
     "execution_count": 52,
     "metadata": {},
     "output_type": "execute_result"
    }
   ],
   "source": [
    "# Print a string for 3 times\n",
    "\n",
    "3 * \"Michael Jackson \""
   ]
  },
  {
   "cell_type": "markdown",
   "id": "461aadb3-5538-483f-9b04-410c157682a5",
   "metadata": {},
   "source": [
    "## Escape Sequences\n"
   ]
  },
  {
   "cell_type": "markdown",
   "id": "8d83e167-0a96-448f-b93c-510af28a83f1",
   "metadata": {},
   "source": [
    "Back slashes represent the beginning  of escape sequences. Escape sequences represent strings that may be difficult to input. For example, back slash \"n\" represents a new line. The output is given by a new line after the back slash \"n\" is encountered:"
   ]
  },
  {
   "cell_type": "code",
   "execution_count": 53,
   "id": "02210042-91b0-44d1-9e48-7c2795a59ab0",
   "metadata": {},
   "outputs": [
    {
     "name": "stdout",
     "output_type": "stream",
     "text": [
      " Lionel Messi \n",
      " is the best\n"
     ]
    }
   ],
   "source": [
    "# New line escape sequence\n",
    "\n",
    "print(\" Lionel Messi \\n is the best\" )"
   ]
  },
  {
   "cell_type": "markdown",
   "id": "1f82badd-b3dd-49fd-9efe-d821662d1186",
   "metadata": {},
   "source": [
    "Similarly, back slash  \"t\" represents a tab:\n"
   ]
  },
  {
   "cell_type": "code",
   "execution_count": 54,
   "id": "124a9616-537d-4d19-bce9-b7f76ed53065",
   "metadata": {},
   "outputs": [
    {
     "name": "stdout",
     "output_type": "stream",
     "text": [
      " Michael Jackson \t is the best\n"
     ]
    }
   ],
   "source": [
    "# Tab escape sequence\n",
    "\n",
    "print(\" Michael Jackson \\t is the best\" )"
   ]
  },
  {
   "cell_type": "markdown",
   "id": "3fa4df78-a684-49b9-8d93-7b1cb4e33ae9",
   "metadata": {},
   "source": [
    "## String Manipulation Operations"
   ]
  },
  {
   "cell_type": "markdown",
   "id": "7e55fa6d-c727-4dd1-9faf-ff68b80cc389",
   "metadata": {},
   "source": [
    "There are many string operation methods in Python that can be used to manipulate the data. We are going to use some basic string operations on the data."
   ]
  },
  {
   "cell_type": "markdown",
   "id": "53e898fa-31cf-4d0b-b4f3-bf88669461a4",
   "metadata": {},
   "source": [
    "Let's try with the method <code>upper</code>; this method converts lower case characters to upper case characters:\n"
   ]
  },
  {
   "cell_type": "code",
   "execution_count": 55,
   "id": "6fa0e10e-69fb-4e53-ad3e-f35c8f12249b",
   "metadata": {},
   "outputs": [
    {
     "name": "stdout",
     "output_type": "stream",
     "text": [
      "before upper: Lionel Messi is the Greatest Of All Times\n",
      "After upper: LIONEL MESSI IS THE GREATEST OF ALL TIMES\n"
     ]
    }
   ],
   "source": [
    "# Convert all the characters in string to upper case\n",
    "\n",
    "a = \"Lionel Messi is the Greatest Of All Times\"\n",
    "print(\"before upper:\", a)\n",
    "b = a.upper()\n",
    "print(\"After upper:\", b)"
   ]
  },
  {
   "cell_type": "markdown",
   "id": "bcc3443f-a001-4d03-86df-0b87f16e85d1",
   "metadata": {},
   "source": [
    "The method <code>replace</code> replaces a segment of the string."
   ]
  },
  {
   "cell_type": "code",
   "execution_count": 56,
   "id": "f7458395-f286-4346-8cf7-2e1754bf5fb5",
   "metadata": {},
   "outputs": [
    {
     "data": {
      "text/plain": [
       "'Messi is the best'"
      ]
     },
     "execution_count": 56,
     "metadata": {},
     "output_type": "execute_result"
    }
   ],
   "source": [
    "# Replace the old substring with the new target substring is the segment has been found in the string\n",
    "\n",
    "a = \"Ronaldo is the best\"\n",
    "b = a.replace('Ronaldo', 'Messi')\n",
    "b"
   ]
  },
  {
   "cell_type": "markdown",
   "id": "f5043028-7b83-4438-9d50-7146266efc7d",
   "metadata": {},
   "source": [
    "The method find finds a sub-string."
   ]
  },
  {
   "cell_type": "code",
   "execution_count": 57,
   "id": "5a7cbb83-8d44-455a-a63d-7d2086ef452d",
   "metadata": {},
   "outputs": [
    {
     "data": {
      "text/plain": [
       "4"
      ]
     },
     "execution_count": 57,
     "metadata": {},
     "output_type": "execute_result"
    }
   ],
   "source": [
    "# Find the substring in the string. Only the index of the first elment of substring in string will be the output\n",
    "\n",
    "name = \"Lionel Messi\"\n",
    "name.find('el')"
   ]
  },
  {
   "cell_type": "markdown",
   "id": "c0d5a669-521d-4136-82ef-edc686bfc7b6",
   "metadata": {},
   "source": [
    "The method <code>Split</code> splits the string at the specified separator, and returns a list:\n"
   ]
  },
  {
   "cell_type": "code",
   "execution_count": 58,
   "id": "f76bb301-9f3e-4fda-add2-b5bf68bc5c19",
   "metadata": {},
   "outputs": [
    {
     "data": {
      "text/plain": [
       "['Michael', 'Jackson']"
      ]
     },
     "execution_count": 58,
     "metadata": {},
     "output_type": "execute_result"
    }
   ],
   "source": [
    "#Split the substring into list\n",
    "name = \"Michael Jackson\"\n",
    "split_string = (name.split( ))\n",
    "split_string"
   ]
  },
  {
   "cell_type": "markdown",
   "id": "e5ef909c-dc19-46c7-b8cc-eb26e452217c",
   "metadata": {},
   "source": [
    "### Finding and searching patterns"
   ]
  },
  {
   "cell_type": "markdown",
   "id": "0d60d18a-b182-4873-8174-e3c121acb3b1",
   "metadata": {},
   "source": [
    "Python provides a built-in module called <code>re</code>, which allows you to work with regular expressions. \n",
    "First, import the <code>re</code> module\n"
   ]
  },
  {
   "cell_type": "code",
   "execution_count": 59,
   "id": "291b0ae2-06e3-4911-a2e6-a5dadf2c67ac",
   "metadata": {},
   "outputs": [],
   "source": [
    "import re"
   ]
  },
  {
   "cell_type": "markdown",
   "id": "a3cf6c87-4e0e-4f44-9bd3-db6be49eae96",
   "metadata": {},
   "source": [
    "The search() function searches for specified patterns within a string. Here is an example that explains how to use the search() function to search for the word \"Jackson\" in the string \"Michael Jackson is the best\"."
   ]
  },
  {
   "cell_type": "code",
   "execution_count": 60,
   "id": "7532957d-9853-4f92-902f-7f344ddf35fa",
   "metadata": {},
   "outputs": [
    {
     "name": "stdout",
     "output_type": "stream",
     "text": [
      "Match found!\n"
     ]
    }
   ],
   "source": [
    "s1 = \"Michael Jackson is the best\"\n",
    "\n",
    "# Define the pattern to search for\n",
    "pattern = r\"Jackson\"  # r before a string means the string will be treated as a raw string\n",
    "\n",
    "# Use the search() function to search for the pattern in the string\n",
    "result = re.search(pattern, s1)\n",
    "\n",
    "# Check if a match was found\n",
    "if result: # this will be executed if result exists. Note that result may not be equal to 1 for this to be executed)\n",
    "    print(\"Match found!\")\n",
    "else:      # this will be executes if the result does not exist\n",
    "    print(\"Match not found.\")"
   ]
  },
  {
   "cell_type": "markdown",
   "id": "6b45c775-cd4f-40a2-ade9-c44e4decd3e8",
   "metadata": {},
   "source": [
    "### Formatting strings in Python"
   ]
  },
  {
   "cell_type": "code",
   "execution_count": 61,
   "id": "8cb6ab86-7f0e-4aca-a0c4-6e65a9302759",
   "metadata": {},
   "outputs": [
    {
     "name": "stdout",
     "output_type": "stream",
     "text": [
      "My name is Lionel Messi and I am 37 years old.\n"
     ]
    }
   ],
   "source": [
    "# Using the % operator to replace variables in the string\n",
    "\n",
    "name = \"Lionel Messi\"\n",
    "age = 37\n",
    "print(\"My name is %s and I am %d years old.\" % (name, age))"
   ]
  },
  {
   "cell_type": "code",
   "execution_count": 62,
   "id": "7aefbd6c-2f21-469c-9b7c-791db18c82cd",
   "metadata": {},
   "outputs": [
    {
     "name": "stdout",
     "output_type": "stream",
     "text": [
      "Rohit hit Jansen for 20 sixes in a single match.\n"
     ]
    }
   ],
   "source": [
    "# The %s operator is used for string values while the %d is used for numerical values\n",
    "m = 'Jansen'\n",
    "n = 'Rohit'\n",
    "a = 20\n",
    "print(\"%s hit %s for %d sixes in a single match.\" %(n,m,a))"
   ]
  },
  {
   "cell_type": "code",
   "execution_count": null,
   "id": "9f9436f0-2afc-4aca-a45c-6c264e59a124",
   "metadata": {},
   "outputs": [],
   "source": []
  }
 ],
 "metadata": {
  "kernelspec": {
   "display_name": "Python 3 (ipykernel)",
   "language": "python",
   "name": "python3"
  },
  "language_info": {
   "codemirror_mode": {
    "name": "ipython",
    "version": 3
   },
   "file_extension": ".py",
   "mimetype": "text/x-python",
   "name": "python",
   "nbconvert_exporter": "python",
   "pygments_lexer": "ipython3",
   "version": "3.11.2"
  }
 },
 "nbformat": 4,
 "nbformat_minor": 5
}
